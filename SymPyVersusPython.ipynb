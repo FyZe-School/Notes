{
 "cells": [
  {
   "cell_type": "code",
   "execution_count": 5,
   "metadata": {},
   "outputs": [],
   "source": [
    "from sympy import *\n",
    "init_printing() # in aktuellen Versionen nicht mehr nötig\n",
    "from fractions import Fraction\n",
    "import math"
   ]
  },
  {
   "cell_type": "markdown",
   "metadata": {},
   "source": [
    "Bei der Division in Python ergeben sich **immer** Fließkommazahlen.  Das hatten wir bereits im ersten Semester."
   ]
  },
  {
   "cell_type": "code",
   "execution_count": 6,
   "metadata": {},
   "outputs": [
    {
     "data": {
      "text/plain": [
       "(2.0, float)"
      ]
     },
     "execution_count": 6,
     "metadata": {},
     "output_type": "execute_result"
    }
   ],
   "source": [
    "4/2, type(4/2)"
   ]
  },
  {
   "cell_type": "markdown",
   "metadata": {},
   "source": [
    "Durch Fließkommazahlen werden die eigentlich exakten Berechnungen von Computeralgebrasystemen \"kontaminiert\" und sind dann nicht mehr exakt:"
   ]
  },
  {
   "cell_type": "code",
   "execution_count": 7,
   "metadata": {},
   "outputs": [
    {
     "data": {
      "image/png": "[encoded data removed]",
      "text/latex": [
       "$\\displaystyle \\left( 0.166666666666667 \\pi, \\  \\frac{\\pi}{6}\\right)$"
      ],
      "text/plain": [
       "⎛                     π⎞\n",
       "⎜0.166666666666667⋅π, ─⎟\n",
       "⎝                     6⎠"
      ]
     },
     "execution_count": 7,
     "metadata": {},
     "output_type": "execute_result"
    }
   ],
   "source": [
    "(1/6)*pi, pi/6"
   ]
  },
  {
   "cell_type": "code",
   "execution_count": 8,
   "metadata": {},
   "outputs": [
    {
     "data": {
      "image/png": "[encoded data removed]",
      "text/latex": [
       "$\\displaystyle \\left( 0.49999999999999997483, \\  \\frac{1}{2}, \\  0.5\\right)$"
      ],
      "text/plain": [
       "(0.49999999999999997483, 1/2, 0.5)"
      ]
     },
     "execution_count": 8,
     "metadata": {},
     "output_type": "execute_result"
    }
   ],
   "source": [
    "N(sin((1/6)*pi),20), sin(pi/6), N(sin(pi/6),20)"
   ]
  },
  {
   "cell_type": "markdown",
   "metadata": {},
   "source": [
    "Aus Sicht der Informatik: Wie macht SymPy das eigentlich?\n",
    "\n",
    "Auch wenn Zahlen bei der Ausgabe \"normal\" aussehen, können Sie intern als SymPy-Objekte gespeichert sein:"
   ]
  },
  {
   "cell_type": "code",
   "execution_count": 9,
   "metadata": {},
   "outputs": [
    {
     "data": {
      "text/plain": [
       "[(2, sympy.core.numbers.Integer), (2, int)]"
      ]
     },
     "execution_count": 9,
     "metadata": {},
     "output_type": "execute_result"
    }
   ],
   "source": [
    "[(2*pi/pi, type(2*pi/pi)), (2, type(2))]"
   ]
  },
  {
   "cell_type": "markdown",
   "metadata": {},
   "source": [
    "Operatoren wie z.B. / (Division) werden von SymPy \"überladen\":  Ist mindestens einer der beiden Operanden ein SymPy-Objekt, dann wird die SymPy-Variante des Operators verwendet:"
   ]
  },
  {
   "cell_type": "code",
   "execution_count": 10,
   "metadata": {},
   "outputs": [
    {
     "data": {
      "text/plain": [
       "[(1/7, sympy.core.numbers.Rational),\n",
       " (7, sympy.core.numbers.Integer),\n",
       " (0.14285714285714285, float),\n",
       " (7.0, float)]"
      ]
     },
     "execution_count": 10,
     "metadata": {},
     "output_type": "execute_result"
    }
   ],
   "source": [
    "x, y = pi/pi, 1\n",
    "L = [x/7, 7/x, y/7, 7/y]\n",
    "list(map(lambda a: (a, type(a)), L))"
   ]
  },
  {
   "cell_type": "markdown",
   "metadata": {},
   "source": [
    "Man kann mit der Funktion `sympify` aus normalen Python-Zahlen SymPy-Objekte machen:"
   ]
  },
  {
   "cell_type": "code",
   "execution_count": 11,
   "metadata": {},
   "outputs": [
    {
     "data": {
      "text/plain": [
       "[(3, sympy.core.numbers.Integer), (3, int)]"
      ]
     },
     "execution_count": 11,
     "metadata": {},
     "output_type": "execute_result"
    }
   ],
   "source": [
    "x, y = sympify(3), 3\n",
    "[(x, type(x)), (y, type(y))]"
   ]
  },
  {
   "cell_type": "markdown",
   "metadata": {},
   "source": [
    "`sympify` kann man auch Strings übergeben:"
   ]
  },
  {
   "cell_type": "code",
   "execution_count": 12,
   "metadata": {},
   "outputs": [
    {
     "data": {
      "text/plain": [
       "[(1/6, sympy.core.numbers.Rational), (0.16666666666666666, float)]"
      ]
     },
     "execution_count": 12,
     "metadata": {},
     "output_type": "execute_result"
    }
   ],
   "source": [
    "x, y = sympify('1/6'), 1/6\n",
    "[(x, type(x)), (y, type(y))]"
   ]
  },
  {
   "cell_type": "markdown",
   "metadata": {},
   "source": [
    "Aber warum klappt das hier nicht?"
   ]
  },
  {
   "cell_type": "code",
   "execution_count": 13,
   "metadata": {},
   "outputs": [
    {
     "data": {
      "image/png": "[encoded data removed]",
      "text/latex": [
       "$\\displaystyle 0.166666666666667$"
      ],
      "text/plain": [
       "0.166666666666667"
      ]
     },
     "execution_count": 13,
     "metadata": {},
     "output_type": "execute_result"
    }
   ],
   "source": [
    "sympify(1/6)"
   ]
  },
  {
   "cell_type": "markdown",
   "metadata": {},
   "source": [
    "Antwort: Python berechnet *erst* 1/6 und erst *danach* wird das Ergebnis (eine Fließkommazahl) an die Funktion `sympify` übergeben.  Dann ist es aber zu spät.  \"Verpackt\" man den Ausdruck in einem String (siehe oben), passiert das nicht."
   ]
  },
  {
   "cell_type": "markdown",
   "metadata": {},
   "source": [
    "SymPy kann auch mit `Fraction`-Objekten umgehen:"
   ]
  },
  {
   "cell_type": "code",
   "execution_count": 14,
   "metadata": {},
   "outputs": [
    {
     "data": {
      "image/png": "[encoded data removed]",
      "text/latex": [
       "$\\displaystyle \\frac{\\pi}{6}$"
      ],
      "text/plain": [
       "π\n",
       "─\n",
       "6"
      ]
     },
     "execution_count": 14,
     "metadata": {},
     "output_type": "execute_result"
    }
   ],
   "source": [
    "Fraction(1,6)*pi"
   ]
  },
  {
   "cell_type": "markdown",
   "metadata": {},
   "source": [
    "Testfrage zwischendurch: Warum klappt das hier nicht?  (Sollten Sie aus dem ersten Semester noch wissen...)"
   ]
  },
  {
   "cell_type": "code",
   "execution_count": 15,
   "metadata": {},
   "outputs": [
    {
     "data": {
      "image/png": "[encoded data removed]",
      "text/latex": [
       "$\\displaystyle \\frac{6004799503160661 \\pi}{36028797018963968}$"
      ],
      "text/plain": [
       "6004799503160661⋅π\n",
       "──────────────────\n",
       "36028797018963968 "
      ]
     },
     "execution_count": 15,
     "metadata": {},
     "output_type": "execute_result"
    }
   ],
   "source": [
    "Fraction(1/6)*pi"
   ]
  },
  {
   "cell_type": "markdown",
   "metadata": {},
   "source": [
    "Und warum klappt das hier nicht?"
   ]
  },
  {
   "cell_type": "code",
   "execution_count": 16,
   "metadata": {},
   "outputs": [
    {
     "data": {
      "text/plain": [
       "(3.0, float)"
      ]
     },
     "execution_count": 16,
     "metadata": {},
     "output_type": "execute_result"
    }
   ],
   "source": [
    "27**Fraction(1,3), type(27**Fraction(1,3))"
   ]
  },
  {
   "cell_type": "markdown",
   "metadata": {},
   "source": [
    "Antwort: Weder 27 noch `Fraction(1,3)` sind SymPy-Objekte.  Also tritt der oben beschriebene Mechanismus des Überladens nicht in Kraft.  Die folgenden Versionen klappen aber alle.  (`Rational` ist quasi die SymPy-Version von `Fraction`.)"
   ]
  },
  {
   "cell_type": "code",
   "execution_count": 17,
   "metadata": {},
   "outputs": [
    {
     "ename": "SyntaxError",
     "evalue": "incomplete input (4271680096.py, line 5)",
     "output_type": "error",
     "traceback": [
      "\u001b[0;36m  Cell \u001b[0;32mIn[17], line 5\u001b[0;36m\u001b[0m\n\u001b[0;31m    sympify('27**(1/3)'),\\\u001b[0m\n\u001b[0m                          ^\u001b[0m\n\u001b[0;31mSyntaxError\u001b[0m\u001b[0;31m:\u001b[0m incomplete input\n"
     ]
    }
   ],
   "source": [
    "sympify(27)**Fraction(1,3),\\\n",
    "27**sympify(Fraction(1,3)),\\\n",
    "27**sympify('1/3'),\\\n",
    "27**Rational(1,3),\\\n",
    "sympify('27**(1/3)'),\\"
   ]
  },
  {
   "cell_type": "markdown",
   "metadata": {},
   "source": [
    "Was passiert, wenn man `N` oder `evalf` verwendet?  (Die beiden Funktionen sind übrigens äquivalent.  Siehe Fußnote 4 auf Seite 243 im Buch.)"
   ]
  },
  {
   "cell_type": "code",
   "execution_count": null,
   "metadata": {},
   "outputs": [
    {
     "data": {
      "text/plain": [
       "[(3.14159265358979, sympy.core.numbers.Float), (3.141592653589793, float)]"
      ]
     },
     "execution_count": 14,
     "metadata": {},
     "output_type": "execute_result"
    }
   ],
   "source": [
    "[(N(pi), type(N(pi))), (float(pi), type(float(pi)))]"
   ]
  },
  {
   "cell_type": "markdown",
   "metadata": {},
   "source": [
    "Diese Funktionen wandeln den Ausdruck in eine Fließkommazahl um.  Es handelt sich allerdings nicht um den normalen `float`-Typ von Python, weil SymPy mit beliebig hoher Genauigkeit arbeiten kann.  Daher kann man diese Objekte ggf. nicht in 64 Bit unterbringen."
   ]
  },
  {
   "cell_type": "code",
   "execution_count": null,
   "metadata": {},
   "outputs": [
    {
     "data": {
      "image/png": "[encoded data removed]",
      "text/latex": [
       "$\\displaystyle 3.1415926535897932385$"
      ],
      "text/plain": [
       "3.1415926535897932385"
      ]
     },
     "execution_count": 15,
     "metadata": {},
     "output_type": "execute_result"
    }
   ],
   "source": [
    "N(pi, 20)"
   ]
  },
  {
   "cell_type": "markdown",
   "metadata": {},
   "source": [
    "Aber auch die SymPy-Fließkommazahlen \"kontaminieren\" die Rechnung.  Wenn Sie einmal irgendwo gerundet haben, schleppen Sie den Fehler danach mit sich rum.  (Merkregel: Sowas wie `N` oder `evalf` immer nur ganz am Ende einer ansonsten exakten Rechnung ausführen.)"
   ]
  },
  {
   "cell_type": "code",
   "execution_count": null,
   "metadata": {},
   "outputs": [
    {
     "data": {
      "image/png": "[encoded data removed]",
      "text/latex": [
       "$\\displaystyle \\left( 0.499999999999999999999576483526, \\  0.5, \\  \\frac{1}{2}\\right)$"
      ],
      "text/plain": [
       "(0.499999999999999999999576483526, 0.5, 1/2)"
      ]
     },
     "execution_count": 16,
     "metadata": {},
     "output_type": "execute_result"
    }
   ],
   "source": [
    "N(sin(N(pi/6,20)),30), N(sin(pi/6),30), sin(pi/6)"
   ]
  },
  {
   "cell_type": "markdown",
   "metadata": {},
   "source": [
    "Und wie rechnet man nun beispielsweise die 16. Nachkommastelle von $\\sqrt{5/13}$ aus?"
   ]
  },
  {
   "cell_type": "code",
   "execution_count": null,
   "metadata": {},
   "outputs": [
    {
     "data": {
      "image/png": "[encoded data removed]",
      "text/latex": [
       "$\\displaystyle \\left( 0.6201736729460423, \\  0.620173672946042, \\  0.62017367294604231, \\  0.6201736729460423, \\  0.62017367294604228\\right)$"
      ],
      "text/plain": [
       "(0.6201736729460423, 0.620173672946042, 0.62017367294604231, 0.620173672946042\n",
       "3, 0.62017367294604228)"
      ]
     },
     "execution_count": 17,
     "metadata": {},
     "output_type": "execute_result"
    }
   ],
   "source": [
    "math.sqrt(5/13),\\\n",
    "sqrt(5/13),\\\n",
    "N(sqrt(5/13),17),\\\n",
    "N(sympify('sqrt(5/13)'),16),\\\n",
    "N(sympify('sqrt(5/13)'),17)"
   ]
  },
  {
   "cell_type": "markdown",
   "metadata": {},
   "source": [
    "Antwort: Nur die letzte Variante ist korrekt.  Die zweite zeigt nicht genügend Nachkommastellen an und warum die erste und die dritte falsch sind, sollte inzwischen klar sein.  Aber warum ist die vorletzte auch falsch?  SymPy hat hier korrekt *gerundet*.  Aber die 16. Nachkommastelle ist 2 und nicht 3.  Darum muss man sich mindestens eine Stelle mehr anschauen."
   ]
  },
  {
   "cell_type": "markdown",
   "metadata": {},
   "source": [
    "Das hier hätte natürlich auch geklappt:"
   ]
  },
  {
   "cell_type": "code",
   "execution_count": 7,
   "metadata": {},
   "outputs": [
    {
     "data": {
      "image/png": "[encoded data removed]",
      "text/latex": [
       "$\\displaystyle \\left( 0.62017367294604228, \\  0.62017367294604228, \\  0.62017367294604228\\right)$"
      ],
      "text/plain": [
       "(0.62017367294604228, 0.62017367294604228, 0.62017367294604228)"
      ]
     },
     "execution_count": 7,
     "metadata": {},
     "output_type": "execute_result"
    }
   ],
   "source": [
    "N(sqrt(sympify('5/13')),17),\\\n",
    "N(sqrt(Fraction(5,13)),17),\\\n",
    "N(sqrt(Rational(5,13)),17)"
   ]
  },
  {
   "cell_type": "code",
   "execution_count": 8,
   "metadata": {},
   "outputs": [
    {
     "data": {
      "image/png": "[encoded data removed]",
      "text/latex": [
       "$\\displaystyle 2 \\sqrt{2}$"
      ],
      "text/plain": [
       "2⋅√2"
      ]
     },
     "execution_count": 8,
     "metadata": {},
     "output_type": "execute_result"
    }
   ],
   "source": [
    "sqrt(8)"
   ]
  },
  {
   "cell_type": "code",
   "execution_count": 10,
   "metadata": {},
   "outputs": [],
   "source": [
    "x = symbols('x')"
   ]
  },
  {
   "cell_type": "code",
   "execution_count": 14,
   "metadata": {},
   "outputs": [
    {
     "data": {
      "image/png": "[encoded data removed]",
      "text/latex": [
       "$\\displaystyle \\frac{1}{2 \\sqrt{x}}$"
      ],
      "text/plain": [
       " 1  \n",
       "────\n",
       "2⋅√x"
      ]
     },
     "execution_count": 14,
     "metadata": {},
     "output_type": "execute_result"
    }
   ],
   "source": [
    "diff(sqrt(x))"
   ]
  },
  {
   "cell_type": "code",
   "execution_count": 15,
   "metadata": {},
   "outputs": [
    {
     "data": {
      "image/png": "[encoded data removed]",
      "text/latex": [
       "$\\displaystyle \\left[ -3.16227766016838, \\  0.0, \\  3.16227766016838\\right]$"
      ],
      "text/plain": [
       "[-3.16227766016838, 0.0, 3.16227766016838]"
      ]
     },
     "execution_count": 15,
     "metadata": {},
     "output_type": "execute_result"
    }
   ],
   "source": [
    "solve(1/2*x**3-5*x)"
   ]
  },
  {
   "cell_type": "markdown",
   "metadata": {},
   "source": [
    "Markdown in LaTeX mit zwei $ beginnen und enden: $$ e^{i\\pi}+1=0$$"
   ]
  },
  {
   "cell_type": "markdown",
   "metadata": {},
   "source": []
  }
 ],
 "metadata": {
  "@webio": {
   "lastCommId": null,
   "lastKernelId": null
  },
  "kernelspec": {
   "display_name": "Python 3",
   "language": "python",
   "name": "python3"
  },
  "language_info": {
   "codemirror_mode": {
    "name": "ipython",
    "version": 3
   },
   "file_extension": ".py",
   "mimetype": "text/x-python",
   "name": "python",
   "nbconvert_exporter": "python",
   "pygments_lexer": "ipython3",
   "version": "3.11.2"
  }
 },
 "nbformat": 4,
 "nbformat_minor": 4
}
